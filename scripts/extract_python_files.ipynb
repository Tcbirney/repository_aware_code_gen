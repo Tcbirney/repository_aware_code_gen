{
 "cells": [
  {
   "cell_type": "code",
   "execution_count": null,
   "metadata": {},
   "outputs": [],
   "source": [
    "import os\n",
    "import lizard\n",
    "import json"
   ]
  },
  {
   "cell_type": "code",
   "execution_count": null,
   "metadata": {},
   "outputs": [],
   "source": [
    "def get_func_src(func, src):\n",
    "    src_lines = src.split('\\n')\n",
    "    start_line, end_line = func.start_line, func.end_line\n",
    "    start_line -= 1\n",
    "    return '\\n'.join(src_lines[start_line:end_line]).rstrip()"
   ]
  },
  {
   "cell_type": "code",
   "execution_count": null,
   "metadata": {},
   "outputs": [],
   "source": [
    "def extract_functions(keyword = ''):\n",
    "    src_code = ['numpy-main', 'pandas-main']\n",
    "\n",
    "    # will search for any python file in our repos, extract the functions and\n",
    "    for repo in src_code:\n",
    "\n",
    "        print(f\"reading for {repo}\")\n",
    "\n",
    "        # search for py files\n",
    "        files = os.popen(f'find ../custom_datasets/sources/{repo} -type f -name \\*{keyword}*.py').read().split('\\n')\n",
    "        # this will have the fullepath to the function \n",
    "        # name as the key and then the function code as a value\n",
    "        functions = {}\n",
    "\n",
    "        # iterate over the strings of file paths for all python functions\n",
    "        for f in files:\n",
    "            try:\n",
    "\n",
    "                # open and read the python file\n",
    "                file_code = \"\"\n",
    "                with open(f, 'r') as file:\n",
    "                    file_code = file.read()\n",
    "\n",
    "                # truncate the fname with the repo-dire as the base dir\n",
    "                # remove the .py extension so we can know where the function comes from\n",
    "                truncated_fname = f[f.find(repo):].replace('.py', '')\n",
    "\n",
    "                # generate a lizard function object reading from the filepath string\n",
    "                func_objs = lizard.analyze_file.analyze_source_code(f, file_code).function_list\n",
    "\n",
    "                # add an entry to the dictionary where the full path to the function \n",
    "                # is the key and the src code is the value\n",
    "                for f in func_objs:\n",
    "                    func_name = truncated_fname + '.' + f.name\n",
    "                    func_src = get_func_src(f, file_code)\n",
    "                    functions[func_name] = func_src\n",
    "\n",
    "                    print('-------------------------------------------------------------------------------------------')\n",
    "\n",
    "            except:\n",
    "                # just print any of the files we were unable to read\n",
    "                print(f)\n",
    "                pass\n",
    "\n",
    "        if keyword != \"\":\n",
    "            print(f\"{repo} has {len(functions)} functions when searching with the keyword {keyword}\")\n",
    "        else:\n",
    "            print(f\"{repo} has {len(functions)} functions\")\n",
    "                    \n",
    "\n",
    "        # write a parsed json file for all of the functions in the repository\n",
    "        if keyword != \"\":\n",
    "            out_fname = f\"{repo}-{keyword}-parsed-functions.json\"\n",
    "        else:\n",
    "            out_fname = f\"{repo}-parsed-functions.json\"\n",
    "\n",
    "        with open(f\"../custom_datasets/currated_data/{out_fname}\", 'w') as outfile:\n",
    "            outfile.write(json.dumps(functions))\n",
    "\n"
   ]
  },
  {
   "cell_type": "code",
   "execution_count": null,
   "metadata": {},
   "outputs": [],
   "source": [
    "extract_functions()"
   ]
  },
  {
   "cell_type": "code",
   "execution_count": null,
   "metadata": {},
   "outputs": [],
   "source": [
    "extract_functions('test')"
   ]
  },
  {
   "cell_type": "code",
   "execution_count": null,
   "metadata": {},
   "outputs": [],
   "source": []
  }
 ],
 "metadata": {
  "kernelspec": {
   "display_name": "Python 3",
   "language": "python",
   "name": "python3"
  },
  "language_info": {
   "codemirror_mode": {
    "name": "ipython",
    "version": 3
   },
   "file_extension": ".py",
   "mimetype": "text/x-python",
   "name": "python",
   "nbconvert_exporter": "python",
   "pygments_lexer": "ipython3",
   "version": "3.8.10"
  }
 },
 "nbformat": 4,
 "nbformat_minor": 2
}
