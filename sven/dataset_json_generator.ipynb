{
 "cells": [
  {
   "cell_type": "code",
   "execution_count": 44,
   "metadata": {},
   "outputs": [],
   "source": [
    "import utils\n",
    "import lizard\n",
    "from diff_match_patch import diff_match_patch\n",
    "import json\n",
    "import os\n",
    "from difflib import SequenceMatcher\n",
    "import random"
   ]
  },
  {
   "cell_type": "code",
   "execution_count": 3,
   "metadata": {},
   "outputs": [],
   "source": [
    "def create_deletions(modified_func):\n",
    "\n",
    "    before_code = modified_func.func_src_before\n",
    "    before_code_lines = before_code.split('\\n')\n",
    "\n",
    "    # for every entry in deleted and added, extract the code and indeces\n",
    "    # then count how many new lines come before\n",
    "    # then check to see if every line in the changed code portion matches completely to an entry in\n",
    "    # the corresponding source code, and add to either an addition or deletion\n",
    "\n",
    "    # deletetions will compare to the before code\n",
    "    # additions will compare to the after code\n",
    "\n",
    "    char_changes_delete = modified_func.char_changes['deleted']\n",
    "    for change in char_changes_delete:\n",
    "\n",
    "        # count how many lines happened before we started changing code\n",
    "        # then add 1 to describe the current line where we changed code\n",
    "        start_line_num = before_code[:change['char_start']].count('\\n') + 1\n",
    "\n",
    "        # retrieve the changed code, and split each into their own line\n",
    "        # fileter out the empty line\n",
    "        changed_code = before_code[change['char_start']:change['char_end']+1].split('\\n')\n",
    "        changed_code = list(filter(None, changed_code))\n",
    "\n",
    "        for l in range(len(changed_code)):\n",
    "            # line num is 1 indexed\n",
    "            curr_line_num = start_line_num + l\n",
    "\n",
    "            # access the lines to analyze form the original and \n",
    "            # characters which have been deleted from\n",
    "            changed_line = changed_code[l]\n",
    "            src_code_line = before_code_lines[curr_line_num - 1]\n",
    "\n",
    "            # if the characters changed on the current line match extactly up with \n",
    "            # the entirety of the line in the src code then we can count this as \n",
    "            # a complete line deletion\n",
    "            if changed_line.strip() == src_code_line.strip():\n",
    "\n",
    "                # get the indeces of the current line that has been deleted\n",
    "                start_index = len('\\n'.join(before_code_lines[:curr_line_num - 1])) + 1\n",
    "                end_index = start_index + len(src_code_line)\n",
    "\n",
    "                deletion = {\"line_no\": curr_line_num, \"char_start\": start_index, \"char_end\": end_index, \"line\": src_code_line}\n",
    "                modified_func.line_changes['deleted'].append(deletion)\n",
    "\n",
    "                "
   ]
  },
  {
   "cell_type": "code",
   "execution_count": 4,
   "metadata": {},
   "outputs": [],
   "source": [
    "def create_additions(modified_func):\n",
    "    after_code = modified_func.func_src_after\n",
    "    after_code_lines = after_code.split('\\n')\n",
    "\n",
    "    # for every entry in deleted and added, extract the code and indeces\n",
    "    # then count how many new lines come before\n",
    "    # then check to see if every line in the changed code portion matches completely to an entry in\n",
    "    # the corresponding source code, and add to either an addition or deletion\n",
    "\n",
    "    char_changes_add = modified_func.char_changes['added']\n",
    "    for change in char_changes_add:\n",
    "\n",
    "        # count how many lines happened before we started changing code\n",
    "        # then add 1 to describe the current line where we changed code\n",
    "        start_line_num = after_code[:change['char_start']].count('\\n') + 1\n",
    "\n",
    "        # retrieve the changed code, and split each into their own line\n",
    "        # fileter out the empty line\n",
    "        changed_code = after_code[change['char_start']:change['char_end']+1].split('\\n')\n",
    "        changed_code = list(filter(None, changed_code))\n",
    "\n",
    "        for l in range(len(changed_code)):\n",
    "            # line num is 1 indexed\n",
    "            curr_line_num = start_line_num + l\n",
    "\n",
    "            # access the lines to analyze form the original and \n",
    "            # characters which have been deleted from\n",
    "            changed_line = changed_code[l]\n",
    "            src_code_line = after_code_lines[curr_line_num - 1]\n",
    "\n",
    "            # if the characters changed on the current line match extactly up with \n",
    "            # the entirety of the line in the src code then we can count this as \n",
    "            # a complete line deletion\n",
    "            if changed_line.strip() == src_code_line.strip():\n",
    "                \n",
    "                # get the indeces of the current line that has been deleted\n",
    "                start_index = len('\\n'.join(after_code_lines[:curr_line_num - 1])) + 1\n",
    "                end_index = start_index + len(src_code_line)\n",
    "\n",
    "                addition = {\"line_no\": curr_line_num, \"char_start\": start_index, \"char_end\": end_index, \"line\": src_code_line}\n",
    "                modified_func.line_changes['added'].append(addition)"
   ]
  },
  {
   "cell_type": "code",
   "execution_count": 5,
   "metadata": {},
   "outputs": [],
   "source": [
    "# using the character changes and the function source code\n",
    "# determine which of the character changes constitute a complete line addition or deletion\n",
    "def get_line_changes(modified_func):\n",
    "\n",
    "    create_deletions(modified_func)\n",
    "    create_additions(modified_func)\n",
    "    pass\n"
   ]
  },
  {
   "cell_type": "code",
   "execution_count": 8,
   "metadata": {},
   "outputs": [],
   "source": [
    "def read_functions():\n",
    "    before_src = None\n",
    "    after_src = None\n",
    "\n",
    "    with open('../custom_datasets/currated_data/numpy-main-parsed-functions.py', 'r') as file:\n",
    "        before_src = file.read()\n",
    "\n",
    "    with open('../custom_datasets/currated_data/pandas-main-parsed-functions.py', 'r') as file:\n",
    "        after_src = file.read()\n",
    "\n",
    "    return before_src, after_src\n",
    "\n",
    "before_src, after_src = read_functions()"
   ]
  },
  {
   "cell_type": "code",
   "execution_count": 12,
   "metadata": {},
   "outputs": [],
   "source": [
    "def get_func_src(func, src):\n",
    "    src_lines = src.split('\\n')\n",
    "    start_line, end_line = func.start_line, func.end_line\n",
    "    start_line -= 1\n",
    "    return '\\n'.join(src_lines[start_line:end_line]).rstrip()"
   ]
  },
  {
   "cell_type": "code",
   "execution_count": 70,
   "metadata": {},
   "outputs": [],
   "source": [
    "\n",
    "# get the lizard func objects\n",
    "before_funcs = lizard.analyze_file.analyze_source_code(\n",
    "    '../custom_datasets/currated_data/numpy-main-parsed-functions.py', \n",
    "    before_src).function_list\n",
    "\n",
    "random.shuffle(before_funcs)\n",
    "before_funcs = before_funcs[:100]\n",
    "\n",
    "\n",
    "\n",
    "after_funcs = lizard.analyze_file.analyze_source_code(\n",
    "    '../custom_datasets/currated_data/pandas-main-parsed-functions.py', \n",
    "    after_src).function_list\n",
    "\n",
    "random.shuffle(after_funcs)\n",
    "after_funcs = after_funcs[:100]\n",
    "\n"
   ]
  },
  {
   "cell_type": "code",
   "execution_count": 71,
   "metadata": {},
   "outputs": [
    {
     "name": "stdout",
     "output_type": "stream",
     "text": [
      "getting before funcs srcs\n",
      "getting after funcs srcs\n"
     ]
    }
   ],
   "source": [
    "before_funcs_src = []\n",
    "after_funcs_src = []\n",
    "\n",
    "print('getting before funcs srcs')\n",
    "for i, func in enumerate(before_funcs):\n",
    "    before_funcs_src.append(get_func_src(func, before_src))\n",
    "\n",
    "print('getting after funcs srcs')\n",
    "for i, func in enumerate(after_funcs):\n",
    "    after_funcs_src.append(get_func_src(func, after_src))"
   ]
  },
  {
   "cell_type": "code",
   "execution_count": 73,
   "metadata": {},
   "outputs": [],
   "source": [
    "matched_funcs= []\n",
    "used_indeces = []\n",
    "for i in range(len(before_funcs_src)):\n",
    "\n",
    "    best_similarity = 0\n",
    "    best_index = None\n",
    "\n",
    "    #get the best matching source code between before and after\n",
    "    for j in range(len(after_funcs_src)):\n",
    "        if j in used_indeces:\n",
    "            continue\n",
    "        curr_after_func_src = after_funcs_src[j]\n",
    "\n",
    "        similarity = SequenceMatcher(None, before_funcs_src[i], curr_after_func_src).ratio()\n",
    "        if similarity > best_similarity:\n",
    "            best_similarity = similarity\n",
    "            best_index = j\n",
    "\n",
    "    used_indeces.append(best_index)\n",
    "    matched_funcs.append((before_funcs[i], after_funcs[best_index]))\n",
    "\n"
   ]
  },
  {
   "cell_type": "code",
   "execution_count": 74,
   "metadata": {},
   "outputs": [],
   "source": [
    "# create modified func opjects which generate the changes noticed\n",
    "modified_funcs_list = []\n",
    "for pair in matched_funcs[:50]:\n",
    "    modified_func = utils.ModifiedFunc(pair[0], pair[1], before_src, after_src)\n",
    "    get_line_changes(modified_func)\n",
    "    modified_funcs_list.append(modified_func)"
   ]
  },
  {
   "cell_type": "code",
   "execution_count": null,
   "metadata": {},
   "outputs": [],
   "source": [
    "# convert to json to match the expected input\n",
    "json_out = []\n",
    "for f in modified_funcs_list:\n",
    "    json_out.append(f.to_json())"
   ]
  },
  {
   "cell_type": "code",
   "execution_count": null,
   "metadata": {},
   "outputs": [],
   "source": [
    "# write the training data to files\n",
    "\n",
    "with open(\"../custom_data_train_val/train/functions.jsonl\", 'w') as outfile:\n",
    "    for line in json_out[:30]:\n",
    "        outfile.write(json.dumps(line))\n",
    "        outfile.write('\\n')\n",
    "\n",
    "\n",
    "with open(\"../custom_data_train_val/val/functions.jsonl\", 'w') as outfile:\n",
    "    for line in json_out[30:40]:\n",
    "        outfile.write(json.dumps(line))\n",
    "        outfile.write('\\n')\n"
   ]
  },
  {
   "cell_type": "code",
   "execution_count": null,
   "metadata": {},
   "outputs": [],
   "source": [
    "# write the testing data to multiple completed.py files per example\n",
    "for i, func in enumerate(modified_funcs_list[40:]):\n",
    "    scenario_dir = f'../custom_data_eval/test/example{i+1}'\n",
    "    os.makedirs(scenario_dir, exist_ok = True)\n",
    "\n",
    "    with open(f'{scenario_dir}/completed.py', 'w') as outfile:\n",
    "        outfile.write(func.func_src_after)\n",
    "    \n",
    "    # will need to manually modify this to only include function header and docstring\n",
    "    with open(f'{scenario_dir}/functions.py', 'w') as outfile:\n",
    "        outfile.write(func.func_src_after)\n"
   ]
  },
  {
   "cell_type": "code",
   "execution_count": null,
   "metadata": {},
   "outputs": [],
   "source": []
  },
  {
   "cell_type": "code",
   "execution_count": null,
   "metadata": {},
   "outputs": [],
   "source": []
  }
 ],
 "metadata": {
  "kernelspec": {
   "display_name": "Python 3",
   "language": "python",
   "name": "python3"
  },
  "language_info": {
   "codemirror_mode": {
    "name": "ipython",
    "version": 3
   },
   "file_extension": ".py",
   "mimetype": "text/x-python",
   "name": "python",
   "nbconvert_exporter": "python",
   "pygments_lexer": "ipython3",
   "version": "3.8.10"
  }
 },
 "nbformat": 4,
 "nbformat_minor": 2
}
